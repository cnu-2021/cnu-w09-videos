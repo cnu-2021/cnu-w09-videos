{
 "cells": [
  {
   "cell_type": "markdown",
   "metadata": {
    "slideshow": {
     "slide_type": "slide"
    }
   },
   "source": [
    "# Week 9 - Solving nonlinear equations: Fixed point iteration and Newton's method\n",
    "\n",
    "Charlotte Desvages"
   ]
  },
  {
   "cell_type": "markdown",
   "metadata": {
    "slideshow": {
     "slide_type": "slide"
    }
   },
   "source": [
    "## Fixed point iteration\n",
    "\n",
    "To solve $F(x) = 0$, construct a sequence\n",
    "\n",
    "$$\n",
    "x_{k+1} = G(x_k), \\qquad k = 0, 1, 2, \\dots\n",
    "$$"
   ]
  },
  {
   "cell_type": "markdown",
   "metadata": {
    "slideshow": {
     "slide_type": "fragment"
    }
   },
   "source": [
    "$G$ is called the **iteration function**. We choose $G$ such that\n",
    "\n",
    "$$\n",
    "F(x_\\ast) = 0 \\quad \\Leftrightarrow \\quad x_\\ast = G(x_\\ast).\n",
    "$$"
   ]
  },
  {
   "cell_type": "markdown",
   "metadata": {
    "slideshow": {
     "slide_type": "subslide"
    }
   },
   "source": [
    "### Example\n",
    "\n",
    "Solve\n",
    "\n",
    "$$\n",
    "x - \\cos x - 1 = 0.\n",
    "$$\n",
    "\n",
    "We can rewrite this as $x = \\cos x + 1 = G(x)$, giving the fixed point iteration\n",
    "\n",
    "$$\n",
    "x_{k+1} = \\cos x_k + 1, \\qquad k = 0, 1, 2, \\dots\n",
    "$$\n",
    "\n",
    "We need an initial guess $x_0$."
   ]
  },
  {
   "cell_type": "code",
   "execution_count": 1,
   "metadata": {
    "slideshow": {
     "slide_type": "subslide"
    }
   },
   "outputs": [
    {
     "data": {
      "image/png": "[encoded data removed]",
      "text/plain": [
       "<Figure size 864x288 with 1 Axes>"
      ]
     },
     "metadata": {
      "needs_background": "light"
     },
     "output_type": "display_data"
    }
   ],
   "source": [
    "import matplotlib.pyplot as plt\n",
    "import numpy as np\n",
    "\n",
    "def G(x):\n",
    "    return np.cos(x) + 1\n",
    "\n",
    "fig, ax = plt.subplots(figsize=(12, 4))\n",
    "\n",
    "x = np.linspace(-5, 5, 500)\n",
    "ax.plot(x, x, 'b-', label=r'$y = x$')\n",
    "ax.plot(x, G(x), 'r-', label=r'$y = \\cos x + 1$')\n",
    "ax.set(xlim=[-5, 5], ylim=[-1, 3])\n",
    "ax.grid(); ax.legend()\n",
    "plt.show()"
   ]
  },
  {
   "cell_type": "code",
   "execution_count": 2,
   "metadata": {
    "slideshow": {
     "slide_type": "subslide"
    }
   },
   "outputs": [
    {
     "name": "stdout",
     "output_type": "stream",
     "text": [
      "Root = 1.2834287465703613, found in 423 iterations\n"
     ]
    }
   ],
   "source": [
    "x = 1.0\n",
    "k = 0\n",
    "tol = 1e-8\n",
    "\n",
    "while True:\n",
    "    k += 1\n",
    "    x_new = np.cos(x) + 1\n",
    "    \n",
    "    if abs(x_new - x) <= tol:\n",
    "        break\n",
    "    \n",
    "    x = x_new\n",
    "\n",
    "print(f'Root = {x_new}, found in {k} iterations')"
   ]
  },
  {
   "cell_type": "markdown",
   "metadata": {
    "slideshow": {
     "slide_type": "subslide"
    }
   },
   "source": [
    "## Convergence conditions\n",
    "\n",
    "There are usually many different ways to rewrite $F(x) = 0$ as $x = G(x)$, but not all of these lead to convergence."
   ]
  },
  {
   "cell_type": "markdown",
   "metadata": {
    "slideshow": {
     "slide_type": "fragment"
    }
   },
   "source": [
    "If $G(x)$ is differentiable, the fixed-point iteration $x_{k+1} = G(x_k)$ will converge to a root $x_\\ast$ of $F(x)$ if\n",
    "- $|G'(x)| < 1$ in some neighbourhood of $x_\\ast$,\n",
    "- and either:\n",
    "    - the initial guess $x_0$ is chosen in this neighbourhood, or\n",
    "    - some later iteration value $x_k$ is in this neighbourhood."
   ]
  },
  {
   "cell_type": "markdown",
   "metadata": {
    "slideshow": {
     "slide_type": "slide"
    }
   },
   "source": [
    "## Newton's method\n",
    "\n",
    "Also known as the Newton-Raphson method.\n",
    "\n",
    "Newton's method is a particular type of fixed-point iteration, where\n",
    "\n",
    "$$\n",
    "G(x) = x - \\frac{F(x)}{F'(x)}.\n",
    "$$"
   ]
  },
  {
   "cell_type": "code",
   "execution_count": 3,
   "metadata": {
    "slideshow": {
     "slide_type": "subslide"
    }
   },
   "outputs": [
    {
     "name": "stdout",
     "output_type": "stream",
     "text": [
      "Root = 1.2834287417457653, found in 4 iterations\n"
     ]
    }
   ],
   "source": [
    "def F(x):\n",
    "    return x - np.cos(x) - 1\n",
    "\n",
    "def Fp(x):\n",
    "    return 1 + np.sin(x)\n",
    "\n",
    "x = 1.0\n",
    "k = 0\n",
    "tol = 1e-8\n",
    "\n",
    "while True:\n",
    "    k += 1\n",
    "    x_new = x - F(x) / Fp(x)\n",
    "    \n",
    "    if abs(x_new - x) <= tol:\n",
    "        break\n",
    "    \n",
    "    x = x_new\n",
    "\n",
    "print(f'Root = {x_new}, found in {k} iterations')"
   ]
  },
  {
   "cell_type": "markdown",
   "metadata": {
    "slideshow": {
     "slide_type": "subslide"
    }
   },
   "source": [
    "## Convergence of Newton's method\n",
    "\n",
    "For Newton's method, when $F$ is twice differentiable, we have\n",
    "\n",
    "$$\n",
    "G'(x) = 1 - \\frac{F'(x)}{F'(x)} + \\frac{F(x) F''(x)}{\\left(F'(x)\\right)^2}\n",
    "= \\frac{F(x) F''(x)}{\\left(F'(x)\\right)^2}.\n",
    "$$\n",
    "\n",
    "Since $F(x_\\ast) = 0$ by definition, we have $G'(x_\\ast) = 0$."
   ]
  },
  {
   "cell_type": "markdown",
   "metadata": {
    "slideshow": {
     "slide_type": "fragment"
    }
   },
   "source": [
    "Therefore, if $G(x)$ is *continuously differentiable* in some neighbourhood of $x_\\ast$, we have\n",
    "\n",
    "$$\n",
    "\\lim_{x \\to x_\\ast} G'(x) = 0.\n",
    "$$"
   ]
  },
  {
   "cell_type": "markdown",
   "metadata": {
    "slideshow": {
     "slide_type": "subslide"
    }
   },
   "source": [
    "Remember that for fixed point iteration, we have\n",
    "\n",
    "$$\n",
    "|e_{k+1}| = |G'(\\eta)| |e_k|, \\qquad \\text{for some} \\: \\eta \\in (\\min(x_k, x_\\ast), \\max(x_k, x_\\ast)).\n",
    "$$\n",
    "\n",
    "Since $\\lim_{x \\to x_\\ast} G'(x) = 0$, then for $\\eta$ in this neighbourhood, $|G'(\\eta)|$ decreases more and more as we approach the root, and convergence **accelerates**!"
   ]
  },
  {
   "cell_type": "markdown",
   "metadata": {
    "slideshow": {
     "slide_type": "fragment"
    }
   },
   "source": [
    "To guarantee convergence, it is sufficient that:\n",
    "- $G(x)$ is continuously differentiable,\n",
    "- $x_0$ is chosen to be sufficiently close to $x_\\ast$, in a neighbourhood where $|G'(x)|<1$."
   ]
  },
  {
   "cell_type": "markdown",
   "metadata": {
    "slideshow": {
     "slide_type": "subslide"
    }
   },
   "source": [
    "## Order of convergence: Newton's method"
   ]
  }
 ],
 "metadata": {
  "celltoolbar": "Slideshow",
  "kernelspec": {
   "display_name": "Python 3",
   "language": "python",
   "name": "python3"
  },
  "language_info": {
   "codemirror_mode": {
    "name": "ipython",
    "version": 3
   },
   "file_extension": ".py",
   "mimetype": "text/x-python",
   "name": "python",
   "nbconvert_exporter": "python",
   "pygments_lexer": "ipython3",
   "version": "3.7.6"
  }
 },
 "nbformat": 4,
 "nbformat_minor": 4
}
